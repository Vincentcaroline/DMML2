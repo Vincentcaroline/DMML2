{
 "cells": [
  {
   "cell_type": "markdown",
   "id": "fefe9ed7",
   "metadata": {},
   "source": [
    "Experiment 1  - Traffic Prediction Based on Vehicles"
   ]
  },
  {
   "cell_type": "markdown",
   "id": "cbad1054",
   "metadata": {},
   "source": [
    "Predicting traffic volume based on vehicles."
   ]
  },
  {
   "cell_type": "markdown",
   "id": "209f0c4d",
   "metadata": {},
   "source": [
    "1. Data Fetching"
   ]
  },
  {
   "cell_type": "code",
   "execution_count": 23,
   "id": "b560e32f",
   "metadata": {},
   "outputs": [
    {
     "name": "stderr",
     "output_type": "stream",
     "text": [
      "C:\\Users\\carol\\AppData\\Local\\Temp\\ipykernel_33004\\1979629595.py:11: SettingWithCopyWarning: \n",
      "A value is trying to be set on a copy of a slice from a DataFrame\n",
      "\n",
      "See the caveats in the documentation: https://pandas.pydata.org/pandas-docs/stable/user_guide/indexing.html#returning-a-view-versus-a-copy\n",
      "  vehdata.sort_values(by='Year', ascending=True, inplace=True)\n"
     ]
    }
   ],
   "source": [
    "import pandas as pd\n",
    "\n",
    "# Loading dataset\n",
    "dataset1 = pd.read_csv('C:/Users/carol/OneDrive/Documents/Research/Dataset/Traffic_count.csv')\n",
    "\n",
    "# Filtering rows\n",
    "years = [2017, 2018, 2019, 2020, 2021]\n",
    "vehdata = dataset1[dataset1['Year'].isin(years)]\n",
    "\n",
    "# Sorting in ascending order\n",
    "vehdata.sort_values(by='Year', ascending=True, inplace=True)\n",
    "\n",
    "# Saving the fitered data to new dataset\n",
    "vehdata.to_csv('Trafficdataset.csv')"
   ]
  },
  {
   "cell_type": "code",
   "execution_count": 3,
   "id": "54f3cfe1",
   "metadata": {},
   "outputs": [
    {
     "name": "stdout",
     "output_type": "stream",
     "text": [
      "Index(['Count_point_id', 'Direction_of_travel', 'Year', 'Count_date', 'hour',\n",
      "       'Region_id', 'Region_name', 'Region_ons_code', 'Local_authority_id',\n",
      "       'Local_authority_name', 'Local_authority_code', 'Road_name',\n",
      "       'Road_category', 'Road_type', 'Start_junction_road_name',\n",
      "       'End_junction_road_name', 'Easting', 'Northing', 'Latitude',\n",
      "       'Longitude', 'Link_length_km', 'Link_length_miles', 'Pedal_cycles',\n",
      "       'Two_wheeled_motor_vehicles', 'Cars_and_taxis', 'Buses_and_coaches',\n",
      "       'LGVs', 'HGVs_2_rigid_axle', 'HGVs_3_rigid_axle',\n",
      "       'HGVs_4_or_more_rigid_axle', 'HGVs_3_or_4_articulated_axle',\n",
      "       'HGVs_5_articulated_axle', 'HGVs_6_articulated_axle', 'All_HGVs',\n",
      "       'All_motor_vehicles'],\n",
      "      dtype='object')\n"
     ]
    }
   ],
   "source": [
    "#printing the columns\n",
    "print(vehdata.columns)"
   ]
  },
  {
   "cell_type": "code",
   "execution_count": 4,
   "id": "446d585c",
   "metadata": {},
   "outputs": [
    {
     "name": "stdout",
     "output_type": "stream",
     "text": [
      "Count_point_id                    int64\n",
      "Direction_of_travel              object\n",
      "Year                              int64\n",
      "Count_date                       object\n",
      "hour                              int64\n",
      "Region_id                         int64\n",
      "Region_name                      object\n",
      "Region_ons_code                  object\n",
      "Local_authority_id                int64\n",
      "Local_authority_name             object\n",
      "Local_authority_code             object\n",
      "Road_name                        object\n",
      "Road_category                    object\n",
      "Road_type                        object\n",
      "Start_junction_road_name         object\n",
      "End_junction_road_name           object\n",
      "Easting                           int64\n",
      "Northing                          int64\n",
      "Latitude                        float64\n",
      "Longitude                       float64\n",
      "Link_length_km                  float64\n",
      "Link_length_miles               float64\n",
      "Pedal_cycles                      int64\n",
      "Two_wheeled_motor_vehicles        int64\n",
      "Cars_and_taxis                  float64\n",
      "Buses_and_coaches               float64\n",
      "LGVs                              int64\n",
      "HGVs_2_rigid_axle               float64\n",
      "HGVs_3_rigid_axle               float64\n",
      "HGVs_4_or_more_rigid_axle       float64\n",
      "HGVs_3_or_4_articulated_axle    float64\n",
      "HGVs_5_articulated_axle           int64\n",
      "HGVs_6_articulated_axle         float64\n",
      "All_HGVs                        float64\n",
      "All_motor_vehicles              float64\n",
      "dtype: object\n"
     ]
    }
   ],
   "source": [
    "#printing the datatypes\n",
    "print(vehdata.dtypes)"
   ]
  },
  {
   "cell_type": "markdown",
   "id": "db071795",
   "metadata": {},
   "source": [
    "2. Data Cleaning"
   ]
  },
  {
   "cell_type": "code",
   "execution_count": 5,
   "id": "2a091f68",
   "metadata": {},
   "outputs": [
    {
     "name": "stdout",
     "output_type": "stream",
     "text": [
      "Count_point_id                       0\n",
      "Direction_of_travel                  0\n",
      "Year                                 0\n",
      "Count_date                           0\n",
      "hour                                 0\n",
      "Region_id                            0\n",
      "Region_name                          0\n",
      "Region_ons_code                      0\n",
      "Local_authority_id                   0\n",
      "Local_authority_name                 0\n",
      "Local_authority_code                 0\n",
      "Road_name                            0\n",
      "Road_category                        0\n",
      "Road_type                            0\n",
      "Start_junction_road_name        726060\n",
      "End_junction_road_name          726012\n",
      "Easting                              0\n",
      "Northing                             0\n",
      "Latitude                             0\n",
      "Longitude                            0\n",
      "Link_length_km                  725148\n",
      "Link_length_miles               725148\n",
      "Pedal_cycles                         0\n",
      "Two_wheeled_motor_vehicles           0\n",
      "Cars_and_taxis                       0\n",
      "Buses_and_coaches                    0\n",
      "LGVs                                 0\n",
      "HGVs_2_rigid_axle                    0\n",
      "HGVs_3_rigid_axle                    0\n",
      "HGVs_4_or_more_rigid_axle            0\n",
      "HGVs_3_or_4_articulated_axle         0\n",
      "HGVs_5_articulated_axle              0\n",
      "HGVs_6_articulated_axle              0\n",
      "All_HGVs                             0\n",
      "All_motor_vehicles                   0\n",
      "dtype: int64\n"
     ]
    }
   ],
   "source": [
    "# Checking for missing values\n",
    "print(vehdata.isnull().sum())"
   ]
  },
  {
   "cell_type": "code",
   "execution_count": 6,
   "id": "b87e237d",
   "metadata": {},
   "outputs": [
    {
     "name": "stderr",
     "output_type": "stream",
     "text": [
      "C:\\Users\\carol\\AppData\\Local\\Temp\\ipykernel_33004\\1973640780.py:2: SettingWithCopyWarning: \n",
      "A value is trying to be set on a copy of a slice from a DataFrame\n",
      "\n",
      "See the caveats in the documentation: https://pandas.pydata.org/pandas-docs/stable/user_guide/indexing.html#returning-a-view-versus-a-copy\n",
      "  vehdata.dropna(inplace=True)\n"
     ]
    }
   ],
   "source": [
    "# removing null values \n",
    "vehdata.dropna(inplace=True)"
   ]
  },
  {
   "cell_type": "code",
   "execution_count": 7,
   "id": "31a02c64",
   "metadata": {},
   "outputs": [
    {
     "name": "stdout",
     "output_type": "stream",
     "text": [
      "The dataset contains 373860 records.\n"
     ]
    }
   ],
   "source": [
    "# Printing the number of records\n",
    "print(f'The dataset contains {len(vehdata)} records.')"
   ]
  },
  {
   "cell_type": "code",
   "execution_count": 8,
   "id": "9445fc8b",
   "metadata": {},
   "outputs": [],
   "source": [
    "# removing irrelavant columns\n",
    "vehdata = vehdata.drop(\n",
    "    ['Region_ons_code', 'Local_authority_name', 'Local_authority_code', \n",
    "     'Road_name', 'Start_junction_road_name', 'End_junction_road_name'], axis=1)"
   ]
  },
  {
   "cell_type": "code",
   "execution_count": 9,
   "id": "37bc0297",
   "metadata": {},
   "outputs": [
    {
     "name": "stdout",
     "output_type": "stream",
     "text": [
      "There are 0 duplicate rows.\n"
     ]
    }
   ],
   "source": [
    "# checking for duplicate values\n",
    "duplicate_count = vehdata.duplicated().sum()\n",
    "print(f\"There are {duplicate_count} duplicate rows.\")"
   ]
  },
  {
   "cell_type": "markdown",
   "id": "e5742e31",
   "metadata": {},
   "source": [
    "3. Data Transformation"
   ]
  },
  {
   "cell_type": "code",
   "execution_count": 10,
   "id": "e3956bdb",
   "metadata": {},
   "outputs": [],
   "source": [
    "import pandas as pd\n",
    "\n",
    "# Converting 'Count_date' to datetime format\n",
    "vehdata['Count_date'] = pd.to_datetime(vehdata['Count_date'], format='%Y-%m-%d %H:%M:%S')"
   ]
  },
  {
   "cell_type": "code",
   "execution_count": 11,
   "id": "aa0fd3ae",
   "metadata": {},
   "outputs": [],
   "source": [
    "# List of vehicle type columns\n",
    "vehicle_cols = [\n",
    "    'Pedal_cycles', 'Two_wheeled_motor_vehicles', 'Cars_and_taxis',\n",
    "    'Buses_and_coaches', 'LGVs', 'HGVs_2_rigid_axle', 'HGVs_3_rigid_axle',\n",
    "    'HGVs_4_or_more_rigid_axle', 'HGVs_3_or_4_articulated_axle',\n",
    "    'HGVs_5_articulated_axle', 'HGVs_6_articulated_axle'\n",
    "]\n",
    "\n",
    "# Creating a new column for the total vehicle count\n",
    "vehdata['total_vehicles'] = vehdata[vehicle_cols].sum(axis=1)"
   ]
  },
  {
   "cell_type": "markdown",
   "id": "35922a78",
   "metadata": {},
   "source": [
    "4. Data Encoding"
   ]
  },
  {
   "cell_type": "code",
   "execution_count": 12,
   "id": "747c8916",
   "metadata": {},
   "outputs": [],
   "source": [
    "# Listing of columns to one-hot encode\n",
    "cols_to_encode = ['Direction_of_travel', 'Road_category', 'Road_type', 'Region_name']\n",
    "\n",
    "# Applying one-hot encoding to each column\n",
    "vehdata = pd.get_dummies(vehdata, columns=cols_to_encode, drop_first=True)"
   ]
  },
  {
   "cell_type": "code",
   "execution_count": 13,
   "id": "fadf5667",
   "metadata": {},
   "outputs": [
    {
     "data": {
      "text/plain": [
       "Index(['Count_point_id', 'Year', 'Count_date', 'hour', 'Region_id',\n",
       "       'Local_authority_id', 'Easting', 'Northing', 'Latitude', 'Longitude',\n",
       "       'Link_length_km', 'Link_length_miles', 'Pedal_cycles',\n",
       "       'Two_wheeled_motor_vehicles', 'Cars_and_taxis', 'Buses_and_coaches',\n",
       "       'LGVs', 'HGVs_2_rigid_axle', 'HGVs_3_rigid_axle',\n",
       "       'HGVs_4_or_more_rigid_axle', 'HGVs_3_or_4_articulated_axle',\n",
       "       'HGVs_5_articulated_axle', 'HGVs_6_articulated_axle', 'All_HGVs',\n",
       "       'All_motor_vehicles', 'total_vehicles', 'Direction_of_travel_N',\n",
       "       'Direction_of_travel_S', 'Direction_of_travel_W', 'Road_category_PM',\n",
       "       'Road_category_TA', 'Road_category_TM', 'Region_name_East of England',\n",
       "       'Region_name_London', 'Region_name_North East',\n",
       "       'Region_name_North West', 'Region_name_Scotland',\n",
       "       'Region_name_South East', 'Region_name_South West', 'Region_name_Wales',\n",
       "       'Region_name_West Midlands', 'Region_name_Yorkshire and the Humber'],\n",
       "      dtype='object')"
      ]
     },
     "execution_count": 13,
     "metadata": {},
     "output_type": "execute_result"
    }
   ],
   "source": [
    "# columns after encoding\n",
    "vehdata.columns"
   ]
  },
  {
   "cell_type": "code",
   "execution_count": 14,
   "id": "128f1d62",
   "metadata": {},
   "outputs": [
    {
     "data": {
      "text/plain": [
       "Count_point_id                                   int64\n",
       "Year                                             int64\n",
       "Count_date                              datetime64[ns]\n",
       "hour                                             int64\n",
       "Region_id                                        int64\n",
       "Local_authority_id                               int64\n",
       "Easting                                          int64\n",
       "Northing                                         int64\n",
       "Latitude                                       float64\n",
       "Longitude                                      float64\n",
       "Link_length_km                                 float64\n",
       "Link_length_miles                              float64\n",
       "Pedal_cycles                                     int64\n",
       "Two_wheeled_motor_vehicles                       int64\n",
       "Cars_and_taxis                                 float64\n",
       "Buses_and_coaches                              float64\n",
       "LGVs                                             int64\n",
       "HGVs_2_rigid_axle                              float64\n",
       "HGVs_3_rigid_axle                              float64\n",
       "HGVs_4_or_more_rigid_axle                      float64\n",
       "HGVs_3_or_4_articulated_axle                   float64\n",
       "HGVs_5_articulated_axle                          int64\n",
       "HGVs_6_articulated_axle                        float64\n",
       "All_HGVs                                       float64\n",
       "All_motor_vehicles                             float64\n",
       "total_vehicles                                 float64\n",
       "Direction_of_travel_N                            uint8\n",
       "Direction_of_travel_S                            uint8\n",
       "Direction_of_travel_W                            uint8\n",
       "Road_category_PM                                 uint8\n",
       "Road_category_TA                                 uint8\n",
       "Road_category_TM                                 uint8\n",
       "Region_name_East of England                      uint8\n",
       "Region_name_London                               uint8\n",
       "Region_name_North East                           uint8\n",
       "Region_name_North West                           uint8\n",
       "Region_name_Scotland                             uint8\n",
       "Region_name_South East                           uint8\n",
       "Region_name_South West                           uint8\n",
       "Region_name_Wales                                uint8\n",
       "Region_name_West Midlands                        uint8\n",
       "Region_name_Yorkshire and the Humber             uint8\n",
       "dtype: object"
      ]
     },
     "execution_count": 14,
     "metadata": {},
     "output_type": "execute_result"
    }
   ],
   "source": [
    "vehdata.dtypes"
   ]
  },
  {
   "cell_type": "code",
   "execution_count": 15,
   "id": "467fefc8",
   "metadata": {},
   "outputs": [],
   "source": [
    "# Saving the filtered dataset to a new CSV file\n",
    "vehdata.to_csv('Final_Exp1.csv', index=False)"
   ]
  },
  {
   "cell_type": "markdown",
   "id": "df360930",
   "metadata": {},
   "source": [
    "5. Database "
   ]
  },
  {
   "cell_type": "code",
   "execution_count": 27,
   "id": "79c916c6",
   "metadata": {},
   "outputs": [
    {
     "name": "stdout",
     "output_type": "stream",
     "text": [
      "Defaulting to user installation because normal site-packages is not writeable\n",
      "Requirement already satisfied: pandas in c:\\programdata\\anaconda3\\lib\\site-packages (1.4.4)\n",
      "Requirement already satisfied: sqlalchemy in c:\\programdata\\anaconda3\\lib\\site-packages (1.4.39)\n",
      "Requirement already satisfied: python-dateutil>=2.8.1 in c:\\programdata\\anaconda3\\lib\\site-packages (from pandas) (2.8.2)\n",
      "Requirement already satisfied: numpy>=1.18.5 in c:\\users\\carol\\appdata\\roaming\\python\\python39\\site-packages (from pandas) (1.24.3)\n",
      "Requirement already satisfied: pytz>=2020.1 in c:\\programdata\\anaconda3\\lib\\site-packages (from pandas) (2022.1)\n",
      "Requirement already satisfied: greenlet!=0.4.17 in c:\\programdata\\anaconda3\\lib\\site-packages (from sqlalchemy) (1.1.1)\n",
      "Requirement already satisfied: six>=1.5 in c:\\programdata\\anaconda3\\lib\\site-packages (from python-dateutil>=2.8.1->pandas) (1.16.0)\n",
      "Note: you may need to restart the kernel to use updated packages.\n"
     ]
    }
   ],
   "source": [
    "pip install pandas sqlalchemy"
   ]
  },
  {
   "cell_type": "code",
   "execution_count": 28,
   "id": "790eab35",
   "metadata": {},
   "outputs": [
    {
     "name": "stdout",
     "output_type": "stream",
     "text": [
      "Defaulting to user installation because normal site-packages is not writeable\n",
      "Requirement already satisfied: psycopg2-binary in c:\\users\\carol\\appdata\\roaming\\python\\python39\\site-packages (2.9.9)\n",
      "Note: you may need to restart the kernel to use updated packages.\n"
     ]
    }
   ],
   "source": [
    "pip install psycopg2-binary"
   ]
  },
  {
   "cell_type": "code",
   "execution_count": 32,
   "id": "730f6986",
   "metadata": {},
   "outputs": [],
   "source": [
    "from sqlalchemy import create_engine\n",
    "import pandas as pd\n",
    "\n",
    "db_type = 'postgresql'  \n",
    "user = 'postgres'\n",
    "password = 'user'\n",
    "host = 'localhost'\n",
    "port = '5432'  \n",
    "dbname = 'TrafficData'\n",
    "table_name = 'Exp1'\n",
    "\n",
    "# Creating the database engine\n",
    "engine = create_engine(f'{db_type}://{user}:{password}@{host}:{port}/{dbname}')\n",
    "\n",
    "# Connecting to the database and download the table into a pandas DataFrame\n",
    "with engine.connect() as conn, conn.begin():\n",
    "    vehdata = pd.read_sql_table(table_name, conn)"
   ]
  },
  {
   "cell_type": "code",
   "execution_count": 22,
   "id": "c88295e9",
   "metadata": {},
   "outputs": [],
   "source": [
    "# printing the data from db\n",
    "print(vehdata.head())"
   ]
  },
  {
   "cell_type": "code",
   "execution_count": 15,
   "id": "a136fbb2",
   "metadata": {},
   "outputs": [
    {
     "data": {
      "text/plain": [
       "Index(['Count_point_id', 'Year', 'Count_date', 'hour', 'Region_id',\n",
       "       'Local_authority_id', 'Easting', 'Northing', 'Latitude', 'Longitude',\n",
       "       'Link_length_km', 'Link_length_miles', 'Pedal_cycles',\n",
       "       'Two_wheeled_motor_vehicles', 'Cars_and_taxis', 'Buses_and_coaches',\n",
       "       'LGVs', 'HGVs_2_rigid_axle', 'HGVs_3_rigid_axle',\n",
       "       'HGVs_4_or_more_rigid_axle', 'HGVs_3_or_4_articulated_axle',\n",
       "       'HGVs_5_articulated_axle', 'HGVs_6_articulated_axle', 'All_HGVs',\n",
       "       'All_motor_vehicles', 'total_vehicles', 'Direction_of_travel_N',\n",
       "       'Direction_of_travel_S', 'Direction_of_travel_W', 'Road_category_PM',\n",
       "       'Road_category_TA', 'Road_category_TM', 'Region_name_East of England',\n",
       "       'Region_name_London', 'Region_name_North East',\n",
       "       'Region_name_North West', 'Region_name_Scotland',\n",
       "       'Region_name_South East', 'Region_name_South West', 'Region_name_Wales',\n",
       "       'Region_name_West Midlands', 'Region_name_Yorkshire and the Humber'],\n",
       "      dtype='object')"
      ]
     },
     "execution_count": 15,
     "metadata": {},
     "output_type": "execute_result"
    }
   ],
   "source": [
    "vehdata.columns"
   ]
  },
  {
   "cell_type": "markdown",
   "id": "a3cab345",
   "metadata": {},
   "source": [
    "6. Normality Test (Skewness and Kurtosis)"
   ]
  },
  {
   "cell_type": "code",
   "execution_count": 16,
   "id": "4edb2457",
   "metadata": {
    "scrolled": true
   },
   "outputs": [
    {
     "name": "stderr",
     "output_type": "stream",
     "text": [
      "C:\\ProgramData\\Anaconda3\\lib\\site-packages\\scipy\\stats\\_morestats.py:1800: UserWarning: p-value may not be accurate for N > 5000.\n",
      "  warnings.warn(\"p-value may not be accurate for N > 5000.\")\n"
     ]
    },
    {
     "name": "stdout",
     "output_type": "stream",
     "text": [
      "Column: Count_point_id\n",
      "  p-value: 0.0\n",
      "  Data does not follow a normal distribution (reject H0)\n",
      "\n",
      "Column: Year\n",
      "  p-value: 0.0\n",
      "  Data does not follow a normal distribution (reject H0)\n",
      "\n",
      "Column: hour\n",
      "  p-value: 0.0\n",
      "  Data does not follow a normal distribution (reject H0)\n",
      "\n",
      "Column: Region_id\n",
      "  p-value: 0.0\n",
      "  Data does not follow a normal distribution (reject H0)\n",
      "\n",
      "Column: Local_authority_id\n",
      "  p-value: 0.0\n",
      "  Data does not follow a normal distribution (reject H0)\n",
      "\n",
      "Column: Easting\n",
      "  p-value: 0.0\n",
      "  Data does not follow a normal distribution (reject H0)\n",
      "\n",
      "Column: Northing\n",
      "  p-value: 0.0\n",
      "  Data does not follow a normal distribution (reject H0)\n",
      "\n",
      "Column: Latitude\n",
      "  p-value: 0.0\n",
      "  Data does not follow a normal distribution (reject H0)\n",
      "\n",
      "Column: Longitude\n",
      "  p-value: 0.0\n",
      "  Data does not follow a normal distribution (reject H0)\n",
      "\n",
      "Column: Link_length_km\n",
      "  p-value: 0.0\n",
      "  Data does not follow a normal distribution (reject H0)\n",
      "\n",
      "Column: Link_length_miles\n",
      "  p-value: 0.0\n",
      "  Data does not follow a normal distribution (reject H0)\n",
      "\n",
      "Column: Pedal_cycles\n",
      "  p-value: 0.0\n",
      "  Data does not follow a normal distribution (reject H0)\n",
      "\n",
      "Column: Two_wheeled_motor_vehicles\n",
      "  p-value: 0.0\n",
      "  Data does not follow a normal distribution (reject H0)\n",
      "\n",
      "Column: Cars_and_taxis\n",
      "  p-value: 0.0\n",
      "  Data does not follow a normal distribution (reject H0)\n",
      "\n",
      "Column: Buses_and_coaches\n",
      "  p-value: 0.0\n",
      "  Data does not follow a normal distribution (reject H0)\n",
      "\n",
      "Column: LGVs\n",
      "  p-value: 0.0\n",
      "  Data does not follow a normal distribution (reject H0)\n",
      "\n",
      "Column: HGVs_2_rigid_axle\n",
      "  p-value: 0.0\n",
      "  Data does not follow a normal distribution (reject H0)\n",
      "\n",
      "Column: HGVs_3_rigid_axle\n",
      "  p-value: 0.0\n",
      "  Data does not follow a normal distribution (reject H0)\n",
      "\n",
      "Column: HGVs_4_or_more_rigid_axle\n",
      "  p-value: 0.0\n",
      "  Data does not follow a normal distribution (reject H0)\n",
      "\n",
      "Column: HGVs_3_or_4_articulated_axle\n",
      "  p-value: 0.0\n",
      "  Data does not follow a normal distribution (reject H0)\n",
      "\n",
      "Column: HGVs_5_articulated_axle\n",
      "  p-value: 0.0\n",
      "  Data does not follow a normal distribution (reject H0)\n",
      "\n",
      "Column: HGVs_6_articulated_axle\n",
      "  p-value: 0.0\n",
      "  Data does not follow a normal distribution (reject H0)\n",
      "\n",
      "Column: All_HGVs\n",
      "  p-value: 0.0\n",
      "  Data does not follow a normal distribution (reject H0)\n",
      "\n",
      "Column: All_motor_vehicles\n",
      "  p-value: 0.0\n",
      "  Data does not follow a normal distribution (reject H0)\n",
      "\n",
      "Column: total_vehicles\n",
      "  p-value: 0.0\n",
      "  Data does not follow a normal distribution (reject H0)\n",
      "\n"
     ]
    }
   ],
   "source": [
    "import pandas as pd\n",
    "from scipy import stats\n",
    "\n",
    "# Defining alpha for hypothesis testing\n",
    "alpha = 0.05\n",
    "\n",
    "# Looping through each column in the DataFrame\n",
    "for column in vehdata.columns:\n",
    "    # Skipping non-numeric data\n",
    "    if vehdata[column].dtype not in ['int64', 'float64']:\n",
    "        continue\n",
    "    \n",
    "    stat, p = stats.shapiro(vehdata[column].dropna())  \n",
    "    print(f'Column: {column}')\n",
    "    print(f'  p-value: {p}')\n",
    "    if p > alpha:\n",
    "        print('  Data follows a normal distribution (fail to reject H0)\\n')\n",
    "    else:\n",
    "        print('  Data does not follow a normal distribution (reject H0)\\n')\n"
   ]
  },
  {
   "cell_type": "code",
   "execution_count": 17,
   "id": "08d3f34d",
   "metadata": {},
   "outputs": [
    {
     "name": "stdout",
     "output_type": "stream",
     "text": [
      "Skewness for 'total_vehicles' column: 2.15774557302573\n",
      "Kurtosis for 'total_vehicles' column: 5.661693913006111\n"
     ]
    }
   ],
   "source": [
    "import pandas as pd\n",
    "from scipy.stats import skew, kurtosis\n",
    "\n",
    "skewness_total_vehicles = skew(vehdata['total_vehicles'])\n",
    "kurtosis_total_vehicles = kurtosis(vehdata['total_vehicles'], fisher=True)  \n",
    "\n",
    "print(f\"Skewness for 'total_vehicles' column: {skewness_total_vehicles}\")\n",
    "print(f\"Kurtosis for 'total_vehicles' column: {kurtosis_total_vehicles}\")"
   ]
  },
  {
   "cell_type": "code",
   "execution_count": 18,
   "id": "f646aa2e",
   "metadata": {},
   "outputs": [
    {
     "data": {
      "text/plain": [
       "Index(['Count_point_id', 'Year', 'Count_date', 'hour', 'Region_id',\n",
       "       'Local_authority_id', 'Easting', 'Northing', 'Latitude', 'Longitude',\n",
       "       'Link_length_km', 'Link_length_miles', 'Pedal_cycles',\n",
       "       'Two_wheeled_motor_vehicles', 'Cars_and_taxis', 'Buses_and_coaches',\n",
       "       'LGVs', 'HGVs_2_rigid_axle', 'HGVs_3_rigid_axle',\n",
       "       'HGVs_4_or_more_rigid_axle', 'HGVs_3_or_4_articulated_axle',\n",
       "       'HGVs_5_articulated_axle', 'HGVs_6_articulated_axle', 'All_HGVs',\n",
       "       'All_motor_vehicles', 'total_vehicles', 'Direction_of_travel_N',\n",
       "       'Direction_of_travel_S', 'Direction_of_travel_W', 'Road_category_PM',\n",
       "       'Road_category_TA', 'Road_category_TM', 'Region_name_East of England',\n",
       "       'Region_name_London', 'Region_name_North East',\n",
       "       'Region_name_North West', 'Region_name_Scotland',\n",
       "       'Region_name_South East', 'Region_name_South West', 'Region_name_Wales',\n",
       "       'Region_name_West Midlands', 'Region_name_Yorkshire and the Humber'],\n",
       "      dtype='object')"
      ]
     },
     "execution_count": 18,
     "metadata": {},
     "output_type": "execute_result"
    }
   ],
   "source": [
    "vehdata.columns"
   ]
  },
  {
   "cell_type": "markdown",
   "id": "4c67f4d1",
   "metadata": {},
   "source": [
    "7. Stationarity test "
   ]
  },
  {
   "cell_type": "code",
   "execution_count": 71,
   "id": "040163a7",
   "metadata": {},
   "outputs": [
    {
     "name": "stdout",
     "output_type": "stream",
     "text": [
      "Defaulting to user installation because normal site-packages is not writeable\n",
      "Requirement already satisfied: statsmodels in c:\\programdata\\anaconda3\\lib\\site-packages (0.13.2)\n",
      "Requirement already satisfied: numpy>=1.17 in c:\\users\\carol\\appdata\\roaming\\python\\python39\\site-packages (from statsmodels) (1.24.3)\n",
      "Requirement already satisfied: scipy>=1.3 in c:\\programdata\\anaconda3\\lib\\site-packages (from statsmodels) (1.9.1)\n",
      "Requirement already satisfied: pandas>=0.25 in c:\\programdata\\anaconda3\\lib\\site-packages (from statsmodels) (1.4.4)\n",
      "Requirement already satisfied: patsy>=0.5.2 in c:\\programdata\\anaconda3\\lib\\site-packages (from statsmodels) (0.5.2)\n",
      "Requirement already satisfied: packaging>=21.3 in c:\\programdata\\anaconda3\\lib\\site-packages (from statsmodels) (21.3)\n",
      "Requirement already satisfied: pyparsing!=3.0.5,>=2.0.2 in c:\\programdata\\anaconda3\\lib\\site-packages (from packaging>=21.3->statsmodels) (3.0.9)\n",
      "Requirement already satisfied: pytz>=2020.1 in c:\\programdata\\anaconda3\\lib\\site-packages (from pandas>=0.25->statsmodels) (2022.1)\n",
      "Requirement already satisfied: python-dateutil>=2.8.1 in c:\\programdata\\anaconda3\\lib\\site-packages (from pandas>=0.25->statsmodels) (2.8.2)\n",
      "Requirement already satisfied: six in c:\\programdata\\anaconda3\\lib\\site-packages (from patsy>=0.5.2->statsmodels) (1.16.0)\n",
      "Note: you may need to restart the kernel to use updated packages.\n"
     ]
    }
   ],
   "source": [
    "pip install statsmodels"
   ]
  },
  {
   "cell_type": "code",
   "execution_count": 19,
   "id": "4284353f",
   "metadata": {},
   "outputs": [
    {
     "name": "stdout",
     "output_type": "stream",
     "text": [
      "ADF Statistic: -55.800115\n",
      "p-value: 0.000000\n",
      "Critical Values:\n",
      "\t1%: -3.430\n",
      "\t5%: -2.862\n",
      "\t10%: -2.567\n",
      "Time series is stationary (reject H0)\n"
     ]
    }
   ],
   "source": [
    "from statsmodels.tsa.stattools import adfuller\n",
    "\n",
    "# Perform the Augmented Dickey-Fuller test on the 'total_vehicles' column\n",
    "result = adfuller(vehdata['total_vehicles'])\n",
    "\n",
    "print('ADF Statistic: %f' % result[0])\n",
    "print('p-value: %f' % result[1])\n",
    "print('Critical Values:')\n",
    "for key, value in result[4].items():\n",
    "    print('\\t%s: %.3f' % (key, value))\n",
    "\n",
    "# Determine if the series is stationary based on the ADF test\n",
    "if result[1] < 0.05:  # using an alpha of 0.05\n",
    "    print('Time series is stationary (reject H0)')\n",
    "else:\n",
    "    print('Time series is not stationary (fail to reject H0)')"
   ]
  },
  {
   "cell_type": "code",
   "execution_count": 21,
   "id": "78a71241",
   "metadata": {},
   "outputs": [
    {
     "data": {
      "image/png": "[encoded data removed]",
      "text/plain": [
       "<Figure size 640x480 with 1 Axes>"
      ]
     },
     "metadata": {},
     "output_type": "display_data"
    }
   ],
   "source": [
    "import matplotlib.pyplot as plt\n",
    "\n",
    "# Rolling statistics\n",
    "rolling_mean = vehdata['total_vehicles'].rolling(window=12).mean()\n",
    "rolling_std = vehdata['total_vehicles'].rolling(window=12).std()\n",
    "\n",
    "# Plotting the statistics along with the time series data\n",
    "plt.plot(vehdata['total_vehicles'], label='Original')\n",
    "plt.plot(rolling_mean, label='Rolling Mean')\n",
    "plt.plot(rolling_std, label='Rolling Std')\n",
    "plt.legend(loc='best')\n",
    "plt.title('Rolling Mean & Standard Deviation')\n",
    "# Annotating the plot with ADF Test results\n",
    "plt.title('Time Series Analysis with Rolling Mean & Standard Deviation')\n",
    "plt.text(0.95, 0.8, f'ADF Statistic: {result[0]:.2f}\\np-value: {result[1]:.4f}', \n",
    "         horizontalalignment='right', verticalalignment='center', \n",
    "         transform=plt.gca().transAxes, fontsize=12, bbox=dict(facecolor='white', alpha=0.8))\n",
    "\n",
    "# Check if the series is stationary and annotate\n",
    "stationarity_status = 'Stationary (reject H0)' if result[1] < 0.05 else 'Not Stationary (fail to reject H0)'\n",
    "plt.text(0.95, 0.7, stationarity_status, \n",
    "         horizontalalignment='right', verticalalignment='center', \n",
    "         transform=plt.gca().transAxes, fontsize=12, bbox=dict(facecolor='white', alpha=0.8))\n",
    "plt.show()"
   ]
  },
  {
   "cell_type": "markdown",
   "id": "401c8e81",
   "metadata": {},
   "source": [
    "8. Visualisation"
   ]
  },
  {
   "cell_type": "code",
   "execution_count": 49,
   "id": "6e4e2151",
   "metadata": {},
   "outputs": [
    {
     "data": {
      "image/png": "[encoded data removed]",
      "text/plain": [
       "<Figure size 640x480 with 1 Axes>"
      ]
     },
     "metadata": {},
     "output_type": "display_data"
    }
   ],
   "source": [
    "import matplotlib.pyplot as plt\n",
    "import matplotlib.cm as cm\n",
    "import numpy as np\n",
    "\n",
    "yearly_traffic = vehdata.groupby('Year')['total_vehicles'].mean().reset_index()\n",
    "\n",
    "# Creating a color map\n",
    "years = yearly_traffic['Year']\n",
    "colors = cm.viridis(np.linspace(0, 1, len(years)))\n",
    "\n",
    "# Plotting the bar chart with the colormap\n",
    "plt.bar(yearly_traffic['Year'], yearly_traffic['total_vehicles'], color=colors)\n",
    "plt.xlabel('Year')\n",
    "plt.ylabel('Average Number of Vehicles')\n",
    "plt.title('Average Annual Traffic Volume')\n",
    "plt.show()"
   ]
  },
  {
   "cell_type": "code",
   "execution_count": 18,
   "id": "af7e1516",
   "metadata": {},
   "outputs": [
    {
     "data": {
      "image/png": "[encoded data removed]",
      "text/plain": [
       "<Figure size 640x480 with 1 Axes>"
      ]
     },
     "metadata": {},
     "output_type": "display_data"
    }
   ],
   "source": [
    "yearly_traffic = vehdata.groupby('Year')['total_vehicles'].sum().reset_index()\n",
    "\n",
    "plt.fill_between(yearly_traffic['Year'], yearly_traffic['total_vehicles'], alpha=0.2)\n",
    "plt.plot(yearly_traffic['Year'], yearly_traffic['total_vehicles'], marker='o')\n",
    "plt.xlabel('Year')\n",
    "plt.ylabel('Total Number of Vehicles')\n",
    "plt.title('Total Annual Traffic Volume')\n",
    "plt.grid(True)\n",
    "plt.show()"
   ]
  },
  {
   "cell_type": "code",
   "execution_count": 36,
   "id": "a61704fb",
   "metadata": {},
   "outputs": [
    {
     "data": {
      "image/png": "[encoded data removed]",
      "text/plain": [
       "<Figure size 1000x600 with 1 Axes>"
      ]
     },
     "metadata": {},
     "output_type": "display_data"
    }
   ],
   "source": [
    "import seaborn as sns\n",
    "import matplotlib.pyplot as plt\n",
    "\n",
    "# Assuming vehdata is your DataFrame\n",
    "plt.figure(figsize=(10, 6))\n",
    "sns.boxplot(x='Year', y='total_vehicles', data=vehdata)\n",
    "plt.title('Traffic Flow Over the Years')\n",
    "plt.xlabel('Year')\n",
    "plt.ylabel('Total Vehicles')\n",
    "plt.show()"
   ]
  },
  {
   "cell_type": "markdown",
   "id": "3abf8dc1",
   "metadata": {},
   "source": [
    "9. Correlation Analysis"
   ]
  },
  {
   "cell_type": "code",
   "execution_count": 94,
   "id": "ba2926f7",
   "metadata": {},
   "outputs": [
    {
     "name": "stdout",
     "output_type": "stream",
     "text": [
      "total_vehicles                  1.000000\n",
      "Cars_and_taxis                  0.983427\n",
      "LGVs                            0.923228\n",
      "HGVs_2_rigid_axle               0.780668\n",
      "All_HGVs                        0.765677\n",
      "HGVs_3_rigid_axle               0.684567\n",
      "HGVs_6_articulated_axle         0.627171\n",
      "HGVs_3_or_4_articulated_axle    0.626208\n",
      "HGVs_4_or_more_rigid_axle       0.615274\n",
      "HGVs_5_articulated_axle         0.600906\n",
      "Two_wheeled_motor_vehicles      0.351001\n",
      "Buses_and_coaches               0.154098\n",
      "Year                            0.029904\n",
      "hour                            0.025565\n",
      "Pedal_cycles                   -0.032503\n",
      "Name: total_vehicles, dtype: float64\n"
     ]
    }
   ],
   "source": [
    "import pandas as pd\n",
    "from sklearn.preprocessing import MinMaxScaler\n",
    "\n",
    "# Selecting relevant features including the target variable\n",
    "selected_features = ['hour', 'Year', 'Pedal_cycles', 'Two_wheeled_motor_vehicles', 'Cars_and_taxis',\n",
    "                     'Buses_and_coaches', 'LGVs', 'HGVs_2_rigid_axle', 'HGVs_3_rigid_axle', 'HGVs_4_or_more_rigid_axle',\n",
    "                     'HGVs_3_or_4_articulated_axle', 'HGVs_5_articulated_axle', 'HGVs_6_articulated_axle', 'All_HGVs',\n",
    "                     'total_vehicles']  \n",
    "\n",
    "# Creating a new dataframe with the selected features\n",
    "feature_data = vehdata[selected_features]\n",
    "\n",
    "# Calculating the correlation matrix\n",
    "correlation_matrix = feature_data.corr()\n",
    "\n",
    "correlation_with_target = correlation_matrix['total_vehicles'].sort_values(ascending=False)\n",
    "\n",
    "print(correlation_with_target)"
   ]
  },
  {
   "cell_type": "markdown",
   "id": "b7ec9167",
   "metadata": {},
   "source": [
    "10. Model Building using LSTM"
   ]
  },
  {
   "cell_type": "markdown",
   "id": "ef77e061",
   "metadata": {},
   "source": [
    "Feature Selection and Data Splitting "
   ]
  },
  {
   "cell_type": "code",
   "execution_count": 114,
   "id": "5d40b73a",
   "metadata": {},
   "outputs": [],
   "source": [
    "from sklearn.preprocessing import MinMaxScaler\n",
    "from sklearn.model_selection import train_test_split\n",
    "from tensorflow.keras.models import Sequential\n",
    "from tensorflow.keras.layers import LSTM, Dense, Dropout\n",
    "from tensorflow.keras.optimizers import Adam\n",
    "from tensorflow.keras.callbacks import EarlyStopping\n",
    "import numpy as np\n",
    "from sklearn.metrics import mean_squared_error, mean_absolute_error, r2_score\n",
    "import matplotlib.pyplot as plt\n",
    "\n",
    "\n",
    "# Feature Selection based on Correlation Analysis\n",
    "selected_features = [\n",
    "    'Cars_and_taxis', 'LGVs', 'HGVs_2_rigid_axle', 'All_HGVs',\n",
    "    'HGVs_3_rigid_axle', 'HGVs_6_articulated_axle', 'HGVs_3_or_4_articulated_axle',\n",
    "    'HGVs_4_or_more_rigid_axle', 'HGVs_5_articulated_axle',\n",
    "    'Two_wheeled_motor_vehicles', 'Buses_and_coaches', 'Year', 'hour', 'Pedal_cycles'\n",
    "]\n",
    "\n",
    "# Preparing the dataset for modeling\n",
    "features = vehdata[selected_features]\n",
    "target = vehdata['total_vehicles']\n",
    "\n",
    "# Scale features\n",
    "scaler = MinMaxScaler(feature_range=(0, 1))\n",
    "features_scaled = scaler.fit_transform(features)\n",
    "\n",
    "# Split the dataset\n",
    "X_train, X_test, y_train, y_test = train_test_split(features_scaled, target, test_size=0.2, random_state=42)\n",
    "\n",
    "# Reshape for LSTM\n",
    "X_train = X_train.reshape((X_train.shape[0], 1, X_train.shape[1]))\n",
    "X_test = X_test.reshape((X_test.shape[0], 1, X_test.shape[1]))\n"
   ]
  },
  {
   "cell_type": "code",
   "execution_count": 115,
   "id": "743103a6",
   "metadata": {},
   "outputs": [
    {
     "name": "stdout",
     "output_type": "stream",
     "text": [
      "Model: \"sequential_5\"\n",
      "_________________________________________________________________\n",
      " Layer (type)                Output Shape              Param #   \n",
      "=================================================================\n",
      " lstm_4 (LSTM)               (None, 50)                13000     \n",
      "                                                                 \n",
      " dropout_5 (Dropout)         (None, 50)                0         \n",
      "                                                                 \n",
      " dense_5 (Dense)             (None, 1)                 51        \n",
      "                                                                 \n",
      "=================================================================\n",
      "Total params: 13051 (50.98 KB)\n",
      "Trainable params: 13051 (50.98 KB)\n",
      "Non-trainable params: 0 (0.00 Byte)\n",
      "_________________________________________________________________\n",
      "Epoch 1/50\n",
      "5982/5982 [==============================] - 38s 6ms/step - loss: 1913591.6250 - val_loss: 1719693.8750\n",
      "Epoch 2/50\n",
      "5982/5982 [==============================] - 33s 6ms/step - loss: 1545103.7500 - val_loss: 1413014.8750\n",
      "Epoch 3/50\n",
      "5982/5982 [==============================] - 32s 5ms/step - loss: 1272197.0000 - val_loss: 1150698.8750\n",
      "Epoch 4/50\n",
      "5982/5982 [==============================] - 31s 5ms/step - loss: 1035580.0000 - val_loss: 943580.5000\n",
      "Epoch 5/50\n",
      "5982/5982 [==============================] - 32s 5ms/step - loss: 853338.3750 - val_loss: 777940.6875\n",
      "Epoch 6/50\n",
      "5982/5982 [==============================] - 31s 5ms/step - loss: 706827.5000 - val_loss: 643257.1875\n",
      "Epoch 7/50\n",
      "5982/5982 [==============================] - 31s 5ms/step - loss: 586602.8125 - val_loss: 532642.8750\n",
      "Epoch 8/50\n",
      "5982/5982 [==============================] - 33s 5ms/step - loss: 487436.0000 - val_loss: 441375.3438\n",
      "Epoch 9/50\n",
      "5982/5982 [==============================] - 34s 6ms/step - loss: 405757.1250 - val_loss: 365789.8750\n",
      "Epoch 10/50\n",
      "5982/5982 [==============================] - 33s 6ms/step - loss: 338283.2500 - val_loss: 303183.8750\n",
      "Epoch 11/50\n",
      "5982/5982 [==============================] - 35s 6ms/step - loss: 283102.0938 - val_loss: 251290.9844\n",
      "Epoch 12/50\n",
      "5982/5982 [==============================] - 31s 5ms/step - loss: 236634.1875 - val_loss: 208270.5469\n",
      "Epoch 13/50\n",
      "5982/5982 [==============================] - 33s 6ms/step - loss: 198672.2344 - val_loss: 172702.1094\n",
      "Epoch 14/50\n",
      "5982/5982 [==============================] - 34s 6ms/step - loss: 167543.9219 - val_loss: 143245.7656\n",
      "Epoch 15/50\n",
      "5982/5982 [==============================] - 34s 6ms/step - loss: 141329.8750 - val_loss: 118956.8203\n",
      "Epoch 16/50\n",
      "5982/5982 [==============================] - 35s 6ms/step - loss: 119745.9609 - val_loss: 98961.7031\n",
      "Epoch 17/50\n",
      "5982/5982 [==============================] - 33s 6ms/step - loss: 101991.1172 - val_loss: 82434.4297\n",
      "Epoch 18/50\n",
      "5982/5982 [==============================] - 35s 6ms/step - loss: 87450.7656 - val_loss: 68937.1719\n",
      "Epoch 19/50\n",
      "5982/5982 [==============================] - 33s 6ms/step - loss: 75482.6172 - val_loss: 57793.4414\n",
      "Epoch 20/50\n",
      "5982/5982 [==============================] - 32s 5ms/step - loss: 65687.3203 - val_loss: 48713.2930\n",
      "Epoch 21/50\n",
      "5982/5982 [==============================] - 34s 6ms/step - loss: 57452.8555 - val_loss: 41146.5000\n",
      "Epoch 22/50\n",
      "5982/5982 [==============================] - 35s 6ms/step - loss: 50906.3711 - val_loss: 34977.2070\n",
      "Epoch 23/50\n",
      "5982/5982 [==============================] - 33s 5ms/step - loss: 45975.1562 - val_loss: 29867.1641\n",
      "Epoch 24/50\n",
      "5982/5982 [==============================] - 33s 6ms/step - loss: 40976.6133 - val_loss: 25674.5234\n",
      "Epoch 25/50\n",
      "5982/5982 [==============================] - 33s 5ms/step - loss: 36571.0508 - val_loss: 22193.3633\n",
      "Epoch 26/50\n",
      "5982/5982 [==============================] - 35s 6ms/step - loss: 33863.7539 - val_loss: 19288.9941\n",
      "Epoch 27/50\n",
      "5982/5982 [==============================] - 31s 5ms/step - loss: 30764.8340 - val_loss: 16887.0527\n",
      "Epoch 28/50\n",
      "5982/5982 [==============================] - 31s 5ms/step - loss: 28778.7969 - val_loss: 14869.6582\n",
      "Epoch 29/50\n",
      "5982/5982 [==============================] - 33s 6ms/step - loss: 26984.0684 - val_loss: 13152.6855\n",
      "Epoch 30/50\n",
      "5982/5982 [==============================] - 32s 5ms/step - loss: 25486.5918 - val_loss: 11728.2764\n",
      "Epoch 31/50\n",
      "5982/5982 [==============================] - 35s 6ms/step - loss: 24187.3926 - val_loss: 10517.3555\n",
      "Epoch 32/50\n",
      "5982/5982 [==============================] - 33s 6ms/step - loss: 22798.1562 - val_loss: 9511.9287\n",
      "Epoch 33/50\n",
      "5982/5982 [==============================] - 32s 5ms/step - loss: 21525.1582 - val_loss: 8534.5098\n",
      "Epoch 34/50\n",
      "5982/5982 [==============================] - 39s 7ms/step - loss: 20741.8379 - val_loss: 7844.2393\n",
      "Epoch 35/50\n",
      "5982/5982 [==============================] - 38s 6ms/step - loss: 19945.0859 - val_loss: 7175.5010\n",
      "Epoch 36/50\n",
      "5982/5982 [==============================] - 29s 5ms/step - loss: 19519.3770 - val_loss: 6545.9751\n",
      "Epoch 37/50\n",
      "5982/5982 [==============================] - 33s 5ms/step - loss: 18877.8887 - val_loss: 5967.3394\n",
      "Epoch 38/50\n",
      "5982/5982 [==============================] - 38s 6ms/step - loss: 18055.6016 - val_loss: 5543.7881\n",
      "Epoch 39/50\n",
      "5982/5982 [==============================] - 38s 6ms/step - loss: 17576.0000 - val_loss: 5127.0151\n",
      "Epoch 40/50\n",
      "5982/5982 [==============================] - 37s 6ms/step - loss: 17078.0039 - val_loss: 4809.9980\n",
      "Epoch 41/50\n",
      "5982/5982 [==============================] - 38s 6ms/step - loss: 16933.8359 - val_loss: 4396.0596\n",
      "Epoch 42/50\n",
      "5982/5982 [==============================] - 36s 6ms/step - loss: 16381.0557 - val_loss: 4144.5098\n",
      "Epoch 43/50\n",
      "5982/5982 [==============================] - 37s 6ms/step - loss: 16276.0410 - val_loss: 3923.3359\n",
      "Epoch 44/50\n",
      "5982/5982 [==============================] - 37s 6ms/step - loss: 15690.2656 - val_loss: 3789.8833\n",
      "Epoch 45/50\n",
      "5982/5982 [==============================] - 37s 6ms/step - loss: 15516.3604 - val_loss: 3465.7791\n",
      "Epoch 46/50\n",
      "5982/5982 [==============================] - 37s 6ms/step - loss: 15270.3457 - val_loss: 3246.1301\n",
      "Epoch 47/50\n",
      "5982/5982 [==============================] - 35s 6ms/step - loss: 15004.0488 - val_loss: 3007.9927\n",
      "Epoch 48/50\n",
      "5982/5982 [==============================] - 37s 6ms/step - loss: 14920.7100 - val_loss: 2910.5461\n",
      "Epoch 49/50\n",
      "5982/5982 [==============================] - 37s 6ms/step - loss: 14525.0625 - val_loss: 2740.1934\n",
      "Epoch 50/50\n",
      "5982/5982 [==============================] - 37s 6ms/step - loss: 14303.1416 - val_loss: 2613.6196\n",
      "2337/2337 [==============================] - 7s 3ms/step\n"
     ]
    }
   ],
   "source": [
    "# Building the LSTM model\n",
    "model = Sequential()\n",
    "model.add(LSTM(50, input_shape=(X_train.shape[1], X_train.shape[2])))\n",
    "model.add(Dropout(0.2)) \n",
    "model.add(Dense(1))\n",
    "model.compile(optimizer=Adam(learning_rate=0.001), loss='mse')\n",
    "\n",
    "# Printing the model summary\n",
    "model.summary()\n",
    "\n",
    "# Early stopping\n",
    "early_stopping = EarlyStopping(monitor='val_loss', patience=5, restore_best_weights=True)\n",
    "\n",
    "# Fit model with early stopping\n",
    "history = model.fit(X_train, y_train, epochs=50, batch_size=50, validation_data=(X_test, y_test), verbose=1, shuffle=False, callbacks=[early_stopping])\n",
    "\n",
    "# Evaluating the model\n",
    "loss = model.evaluate(X_test, y_test, verbose=0)\n",
    "\n",
    "# Predictions\n",
    "y_pred = model.predict(X_test)"
   ]
  },
  {
   "cell_type": "code",
   "execution_count": 116,
   "id": "a2450572",
   "metadata": {},
   "outputs": [
    {
     "name": "stdout",
     "output_type": "stream",
     "text": [
      "9347/9347 [==============================] - 27s 3ms/step\n",
      "Training Values for LSTM: \n",
      "Training Mean Squared Error: 2866.8542693254594\n",
      "Training Root Mean Squared Error: 53.54301326340776\n",
      "Training Mean Absolute Error: 9.953320852017534\n",
      "Training R-squared: 0.9972613596062934\n",
      "Testing Values for LSTM: \n",
      "Test Mean Squared Error: 2613.6192631292106\n",
      "Test Root Mean Squared Error: 51.123568568021646\n",
      "Test Mean Absolute Error: 9.80746580526023\n",
      "Test R-squared: 0.9975185974672297\n"
     ]
    }
   ],
   "source": [
    "# Calculating evaluation metrics\n",
    "mse = mean_squared_error(y_test, y_pred)\n",
    "mae = mean_absolute_error(y_test, y_pred)\n",
    "rmse = np.sqrt(mse)\n",
    "r2 = r2_score(y_test, y_pred)\n",
    "\n",
    "# Predictions on training set\n",
    "y_train_pred = model.predict(X_train)\n",
    "\n",
    "# Calculating evaluation metrics for the training set\n",
    "mse_train = mean_squared_error(y_train, y_train_pred)\n",
    "rmse_train = np.sqrt(mse_train)\n",
    "mae_train = mean_absolute_error(y_train, y_train_pred)\n",
    "r2_train = r2_score(y_train, y_train_pred)\n",
    "\n",
    "# Output the metrics for the training set\n",
    "print('Training Values for LSTM: ')\n",
    "print('Training Mean Squared Error:', mse_train)\n",
    "print('Training Root Mean Squared Error:', rmse_train)\n",
    "print('Training Mean Absolute Error:', mae_train)\n",
    "print('Training R-squared:', r2_train)\n",
    "\n",
    "# Output the metrics for the test set \n",
    "print('Testing Values for LSTM: ')\n",
    "print('Test Mean Squared Error:', mse)\n",
    "print('Test Root Mean Squared Error:', rmse)\n",
    "print('Test Mean Absolute Error:', mae)\n",
    "print('Test R-squared:', r2)"
   ]
  },
  {
   "cell_type": "code",
   "execution_count": 117,
   "id": "cc9aac74",
   "metadata": {},
   "outputs": [
    {
     "data": {
      "image/png": "[encoded data removed]",
      "text/plain": [
       "<Figure size 640x480 with 1 Axes>"
      ]
     },
     "metadata": {},
     "output_type": "display_data"
    }
   ],
   "source": [
    "# Plot training & validation loss values\n",
    "plt.plot(history.history['loss'])\n",
    "plt.plot(history.history['val_loss'])\n",
    "plt.title('Model loss')\n",
    "plt.ylabel('Loss')\n",
    "plt.xlabel('Epoch')\n",
    "plt.legend(['Train', 'Test'], loc='upper left')\n",
    "plt.show()"
   ]
  },
  {
   "cell_type": "markdown",
   "id": "120edce7",
   "metadata": {},
   "source": [
    "11. Model Building using GRU"
   ]
  },
  {
   "cell_type": "markdown",
   "id": "76beb116",
   "metadata": {},
   "source": [
    "Feature Selection and Data Spliting "
   ]
  },
  {
   "cell_type": "code",
   "execution_count": 118,
   "id": "a10161b0",
   "metadata": {},
   "outputs": [],
   "source": [
    "from sklearn.preprocessing import MinMaxScaler\n",
    "from sklearn.model_selection import train_test_split\n",
    "from tensorflow.keras.models import Sequential\n",
    "from tensorflow.keras.layers import GRU, Dense, Dropout\n",
    "from tensorflow.keras.optimizers import Adam\n",
    "from tensorflow.keras.callbacks import EarlyStopping\n",
    "import numpy as np\n",
    "from sklearn.metrics import mean_squared_error, mean_absolute_error, r2_score\n",
    "import matplotlib.pyplot as plt\n",
    "\n",
    "\n",
    "# Feature Selection based on Correlation Analysis\n",
    "selected_features = [\n",
    "    'Cars_and_taxis', 'LGVs', 'HGVs_2_rigid_axle', 'All_HGVs',\n",
    "    'HGVs_3_rigid_axle', 'HGVs_6_articulated_axle', 'HGVs_3_or_4_articulated_axle',\n",
    "    'HGVs_4_or_more_rigid_axle', 'HGVs_5_articulated_axle',\n",
    "    'Two_wheeled_motor_vehicles', 'Buses_and_coaches', 'Year', 'hour', 'Pedal_cycles'\n",
    "]\n",
    "\n",
    "# Preparing the dataset for modeling\n",
    "features = vehdata[selected_features]\n",
    "target = vehdata['total_vehicles']\n",
    "\n",
    "# Scale features\n",
    "scaler = MinMaxScaler(feature_range=(0, 1))\n",
    "features_scaled = scaler.fit_transform(features)\n",
    "\n",
    "# Split the dataset\n",
    "X_train, X_test, y_train, y_test = train_test_split(features_scaled, target, test_size=0.2, random_state=42)\n",
    "\n",
    "# Reshape for GRU\n",
    "X_train = X_train.reshape((X_train.shape[0], 1, X_train.shape[1]))\n",
    "X_test = X_test.reshape((X_test.shape[0], 1, X_test.shape[1]))"
   ]
  },
  {
   "cell_type": "code",
   "execution_count": 119,
   "id": "2cd602b7",
   "metadata": {},
   "outputs": [
    {
     "name": "stdout",
     "output_type": "stream",
     "text": [
      "Model: \"sequential_6\"\n",
      "_________________________________________________________________\n",
      " Layer (type)                Output Shape              Param #   \n",
      "=================================================================\n",
      " gru_1 (GRU)                 (None, 50)                9900      \n",
      "                                                                 \n",
      " dropout_6 (Dropout)         (None, 50)                0         \n",
      "                                                                 \n",
      " dense_6 (Dense)             (None, 1)                 51        \n",
      "                                                                 \n",
      "=================================================================\n",
      "Total params: 9951 (38.87 KB)\n",
      "Trainable params: 9951 (38.87 KB)\n",
      "Non-trainable params: 0 (0.00 Byte)\n",
      "_________________________________________________________________\n",
      "Epoch 1/50\n",
      "5982/5982 [==============================] - 42s 6ms/step - loss: 1850179.6250 - val_loss: 1615243.8750\n",
      "Epoch 2/50\n",
      "5982/5982 [==============================] - 39s 6ms/step - loss: 1422038.8750 - val_loss: 1280109.5000\n",
      "Epoch 3/50\n",
      "5982/5982 [==============================] - 38s 6ms/step - loss: 1104697.6250 - val_loss: 968109.0000\n",
      "Epoch 4/50\n",
      "5982/5982 [==============================] - 39s 7ms/step - loss: 850940.5625 - val_loss: 752916.6875\n",
      "Epoch 5/50\n",
      "5982/5982 [==============================] - 38s 6ms/step - loss: 666916.5000 - val_loss: 588956.8125\n",
      "Epoch 6/50\n",
      "5982/5982 [==============================] - 37s 6ms/step - loss: 524243.0312 - val_loss: 461855.4375\n",
      "Epoch 7/50\n",
      "5982/5982 [==============================] - 40s 7ms/step - loss: 413745.4062 - val_loss: 362086.5000\n",
      "Epoch 8/50\n",
      "5982/5982 [==============================] - 37s 6ms/step - loss: 325917.9062 - val_loss: 283795.4375\n",
      "Epoch 9/50\n",
      "5982/5982 [==============================] - 39s 6ms/step - loss: 258189.1719 - val_loss: 222321.7031\n",
      "Epoch 10/50\n",
      "5982/5982 [==============================] - 38s 6ms/step - loss: 205023.3125 - val_loss: 174198.2656\n",
      "Epoch 11/50\n",
      "5982/5982 [==============================] - 38s 6ms/step - loss: 163602.1562 - val_loss: 136585.0938\n",
      "Epoch 12/50\n",
      "5982/5982 [==============================] - 38s 6ms/step - loss: 130891.2109 - val_loss: 107286.8047\n",
      "Epoch 13/50\n",
      "5982/5982 [==============================] - 39s 6ms/step - loss: 105994.5938 - val_loss: 84338.2812\n",
      "Epoch 14/50\n",
      "5982/5982 [==============================] - 38s 6ms/step - loss: 85826.3750 - val_loss: 66572.6328\n",
      "Epoch 15/50\n",
      "5982/5982 [==============================] - 38s 6ms/step - loss: 70729.1875 - val_loss: 52872.0781\n",
      "Epoch 16/50\n",
      "5982/5982 [==============================] - 40s 7ms/step - loss: 58873.6797 - val_loss: 42274.0820\n",
      "Epoch 17/50\n",
      "5982/5982 [==============================] - 39s 6ms/step - loss: 49435.2617 - val_loss: 33928.4688\n",
      "Epoch 18/50\n",
      "5982/5982 [==============================] - 37s 6ms/step - loss: 42311.8164 - val_loss: 27551.4805\n",
      "Epoch 19/50\n",
      "5982/5982 [==============================] - 38s 6ms/step - loss: 36568.0625 - val_loss: 22873.8809\n",
      "Epoch 20/50\n",
      "5982/5982 [==============================] - 38s 6ms/step - loss: 31688.0898 - val_loss: 18638.3184\n",
      "Epoch 21/50\n",
      "5982/5982 [==============================] - 37s 6ms/step - loss: 28460.7656 - val_loss: 15569.4473\n",
      "Epoch 22/50\n",
      "5982/5982 [==============================] - 36s 6ms/step - loss: 25674.1113 - val_loss: 13091.9336\n",
      "Epoch 23/50\n",
      "5982/5982 [==============================] - 37s 6ms/step - loss: 23747.1543 - val_loss: 11417.2812\n",
      "Epoch 24/50\n",
      "5982/5982 [==============================] - 38s 6ms/step - loss: 21412.6465 - val_loss: 9585.2236\n",
      "Epoch 25/50\n",
      "5982/5982 [==============================] - 38s 6ms/step - loss: 20028.4414 - val_loss: 8315.8438\n",
      "Epoch 26/50\n",
      "5982/5982 [==============================] - 38s 6ms/step - loss: 19024.6289 - val_loss: 7157.5898\n",
      "Epoch 27/50\n",
      "5982/5982 [==============================] - 36s 6ms/step - loss: 17832.9688 - val_loss: 6382.9243\n",
      "Epoch 28/50\n",
      "5982/5982 [==============================] - 34s 6ms/step - loss: 17118.8242 - val_loss: 5548.8633\n",
      "Epoch 29/50\n",
      "5982/5982 [==============================] - 37s 6ms/step - loss: 16077.8965 - val_loss: 4987.7104\n",
      "Epoch 30/50\n",
      "5982/5982 [==============================] - 39s 6ms/step - loss: 15669.6963 - val_loss: 4881.6353\n",
      "Epoch 31/50\n",
      "5982/5982 [==============================] - 38s 6ms/step - loss: 15166.5127 - val_loss: 3957.4438\n",
      "Epoch 32/50\n",
      "5982/5982 [==============================] - 35s 6ms/step - loss: 14715.3555 - val_loss: 3649.3455\n",
      "Epoch 33/50\n",
      "5982/5982 [==============================] - 38s 6ms/step - loss: 14113.8379 - val_loss: 3351.5862\n",
      "Epoch 34/50\n",
      "5982/5982 [==============================] - 38s 6ms/step - loss: 13889.5137 - val_loss: 3105.6216\n",
      "Epoch 35/50\n",
      "5982/5982 [==============================] - 38s 6ms/step - loss: 13628.3125 - val_loss: 2767.1545\n",
      "Epoch 36/50\n",
      "5982/5982 [==============================] - 37s 6ms/step - loss: 13196.4697 - val_loss: 2675.1926\n",
      "Epoch 37/50\n",
      "5982/5982 [==============================] - 38s 6ms/step - loss: 12906.0449 - val_loss: 2482.6738\n",
      "Epoch 38/50\n",
      "5982/5982 [==============================] - 38s 6ms/step - loss: 13016.6846 - val_loss: 2260.3525\n",
      "Epoch 39/50\n",
      "5982/5982 [==============================] - 38s 6ms/step - loss: 12594.2920 - val_loss: 2047.9474\n",
      "Epoch 40/50\n",
      "5982/5982 [==============================] - 38s 6ms/step - loss: 12472.8604 - val_loss: 1921.0789\n",
      "Epoch 41/50\n",
      "5982/5982 [==============================] - 38s 6ms/step - loss: 12392.4365 - val_loss: 1901.1134\n",
      "Epoch 42/50\n",
      "5982/5982 [==============================] - 38s 6ms/step - loss: 12312.7227 - val_loss: 1750.6379\n",
      "Epoch 43/50\n",
      "5982/5982 [==============================] - 38s 6ms/step - loss: 12072.0205 - val_loss: 1766.5413\n",
      "Epoch 44/50\n",
      "5982/5982 [==============================] - 38s 6ms/step - loss: 11997.0107 - val_loss: 1487.8202\n",
      "Epoch 45/50\n",
      "5982/5982 [==============================] - 38s 6ms/step - loss: 11817.8496 - val_loss: 1466.1407\n",
      "Epoch 46/50\n",
      "5982/5982 [==============================] - 37s 6ms/step - loss: 11781.6680 - val_loss: 1974.1018\n",
      "Epoch 47/50\n",
      "5982/5982 [==============================] - 39s 6ms/step - loss: 11574.5098 - val_loss: 1391.9165\n",
      "Epoch 48/50\n",
      "5982/5982 [==============================] - 39s 7ms/step - loss: 11502.9512 - val_loss: 1395.0668\n",
      "Epoch 49/50\n",
      "5982/5982 [==============================] - 36s 6ms/step - loss: 11382.8701 - val_loss: 1258.9707\n",
      "Epoch 50/50\n",
      "5982/5982 [==============================] - 38s 6ms/step - loss: 11298.7773 - val_loss: 1183.6598\n",
      "2337/2337 [==============================] - 7s 3ms/step\n"
     ]
    }
   ],
   "source": [
    "# Building the GRU model\n",
    "model_gru = Sequential()\n",
    "model_gru.add(GRU(50, input_shape=(X_train.shape[1], X_train.shape[2])))\n",
    "model_gru.add(Dropout(0.2)) \n",
    "model_gru.add(Dense(1))\n",
    "model_gru.compile(optimizer=Adam(learning_rate=0.001), loss='mse')\n",
    "\n",
    "# Print the model summary\n",
    "model_gru.summary()\n",
    "\n",
    "# Early stopping\n",
    "early_stopping = EarlyStopping(monitor='val_loss', patience=5, restore_best_weights=True)\n",
    "\n",
    "# Fit model with early stopping\n",
    "history = model_gru.fit(X_train, y_train, epochs=50, batch_size=50, validation_data=(X_test, y_test), verbose=1, shuffle=False, callbacks=[early_stopping])\n",
    "\n",
    "# Evaluating the model\n",
    "loss = model_gru.evaluate(X_test, y_test, verbose=0)\n",
    "\n",
    "# Predictions\n",
    "y_pred = model_gru.predict(X_test)"
   ]
  },
  {
   "cell_type": "code",
   "execution_count": 120,
   "id": "979297fa",
   "metadata": {},
   "outputs": [
    {
     "name": "stdout",
     "output_type": "stream",
     "text": [
      "9347/9347 [==============================] - 27s 3ms/step\n",
      "Training Values for GRU: \n",
      "Training Mean Squared Error: 2866.8542693254594\n",
      "Training Root Mean Squared Error: 53.54301326340776\n",
      "Training Mean Absolute Error: 9.953320852017534\n",
      "Training R-squared: 0.9972613596062934\n",
      "Testing Values for GRU: \n",
      "Test Mean Squared Error: 1183.6602182549261\n",
      "Test Root Mean Squared Error: 34.404363360697815\n",
      "Test Mean Absolute Error: 8.474487739256475\n",
      "Test R-squared: 0.9988762183134506\n"
     ]
    }
   ],
   "source": [
    "# Calculating evaluation metrics\n",
    "mse = mean_squared_error(y_test, y_pred)\n",
    "mae = mean_absolute_error(y_test, y_pred)\n",
    "rmse = np.sqrt(mse)\n",
    "r2 = r2_score(y_test, y_pred)\n",
    "\n",
    "# Predictions on training set\n",
    "y_train_pred = model.predict(X_train)\n",
    "\n",
    "# Calculating evaluation metrics for the training set\n",
    "mse_train = mean_squared_error(y_train, y_train_pred)\n",
    "rmse_train = np.sqrt(mse_train)\n",
    "mae_train = mean_absolute_error(y_train, y_train_pred)\n",
    "r2_train = r2_score(y_train, y_train_pred)\n",
    "\n",
    "# Output the metrics for the training set\n",
    "print('Training Values for GRU: ')\n",
    "print('Training Mean Squared Error:', mse_train)\n",
    "print('Training Root Mean Squared Error:', rmse_train)\n",
    "print('Training Mean Absolute Error:', mae_train)\n",
    "print('Training R-squared:', r2_train)\n",
    "\n",
    "# Output the metrics for the test set \n",
    "print('Testing Values for GRU: ')\n",
    "print('Test Mean Squared Error:', mse)\n",
    "print('Test Root Mean Squared Error:', rmse)\n",
    "print('Test Mean Absolute Error:', mae)\n",
    "print('Test R-squared:', r2)"
   ]
  },
  {
   "cell_type": "code",
   "execution_count": 121,
   "id": "2726fbc0",
   "metadata": {},
   "outputs": [
    {
     "data": {
      "image/png": "[encoded data removed]",
      "text/plain": [
       "<Figure size 640x480 with 1 Axes>"
      ]
     },
     "metadata": {},
     "output_type": "display_data"
    }
   ],
   "source": [
    "# Plot training & validation loss values\n",
    "plt.plot(history.history['loss'])\n",
    "plt.plot(history.history['val_loss'])\n",
    "plt.title('Model loss')\n",
    "plt.ylabel('Loss')\n",
    "plt.xlabel('Epoch')\n",
    "plt.legend(['Train', 'Test'], loc='upper left')\n",
    "plt.show()"
   ]
  },
  {
   "cell_type": "markdown",
   "id": "376db848",
   "metadata": {},
   "source": [
    "12. Model Building using CNN"
   ]
  },
  {
   "cell_type": "markdown",
   "id": "25b22771",
   "metadata": {},
   "source": [
    "Feature Selection and Data Spliting"
   ]
  },
  {
   "cell_type": "code",
   "execution_count": 122,
   "id": "40ef5d7b",
   "metadata": {},
   "outputs": [],
   "source": [
    "from sklearn.preprocessing import MinMaxScaler\n",
    "from sklearn.model_selection import train_test_split\n",
    "from tensorflow.keras.models import Sequential\n",
    "from tensorflow.keras.layers import Conv1D, MaxPooling1D, Flatten, Dense, Dropout\n",
    "from tensorflow.keras.optimizers import Adam\n",
    "from tensorflow.keras.callbacks import EarlyStopping\n",
    "import numpy as np\n",
    "from sklearn.metrics import mean_squared_error, mean_absolute_error, r2_score\n",
    "import matplotlib.pyplot as plt\n",
    "\n",
    "# Feature Selection based on Correlation Analysis\n",
    "selected_features = [\n",
    "    'Cars_and_taxis', 'LGVs', 'HGVs_2_rigid_axle', 'All_HGVs',\n",
    "    'HGVs_3_rigid_axle', 'HGVs_6_articulated_axle', 'HGVs_3_or_4_articulated_axle',\n",
    "    'HGVs_4_or_more_rigid_axle', 'HGVs_5_articulated_axle',\n",
    "    'Two_wheeled_motor_vehicles', 'Buses_and_coaches', 'Year', 'hour', 'Pedal_cycles'\n",
    "]\n",
    "\n",
    "# Preparing the dataset for modeling\n",
    "features = vehdata[selected_features]\n",
    "target = vehdata['total_vehicles']\n",
    "\n",
    "# Scale features\n",
    "scaler = MinMaxScaler(feature_range=(0, 1))\n",
    "features_scaled = scaler.fit_transform(features)\n",
    "\n",
    "# Split the dataset\n",
    "X_train, X_test, y_train, y_test = train_test_split(features_scaled, target, test_size=0.2, random_state=42)\n",
    "\n",
    "# Reshape input for CNN [samples, time steps, features]\n",
    "X_train = X_train.reshape((X_train.shape[0], X_train.shape[1], 1))\n",
    "X_test = X_test.reshape((X_test.shape[0], X_test.shape[1], 1))"
   ]
  },
  {
   "cell_type": "code",
   "execution_count": 123,
   "id": "58f98b9f",
   "metadata": {},
   "outputs": [
    {
     "name": "stdout",
     "output_type": "stream",
     "text": [
      "Model: \"sequential_7\"\n",
      "_________________________________________________________________\n",
      " Layer (type)                Output Shape              Param #   \n",
      "=================================================================\n",
      " conv1d (Conv1D)             (None, 12, 64)            256       \n",
      "                                                                 \n",
      " max_pooling1d (MaxPooling1  (None, 6, 64)             0         \n",
      " D)                                                              \n",
      "                                                                 \n",
      " flatten (Flatten)           (None, 384)               0         \n",
      "                                                                 \n",
      " dense_7 (Dense)             (None, 50)                19250     \n",
      "                                                                 \n",
      " dropout_7 (Dropout)         (None, 50)                0         \n",
      "                                                                 \n",
      " dense_8 (Dense)             (None, 1)                 51        \n",
      "                                                                 \n",
      "=================================================================\n",
      "Total params: 19557 (76.39 KB)\n",
      "Trainable params: 19557 (76.39 KB)\n",
      "Non-trainable params: 0 (0.00 Byte)\n",
      "_________________________________________________________________\n",
      "Epoch 1/50\n",
      "5982/5982 [==============================] - 37s 6ms/step - loss: 278189.7500 - val_loss: 10043.3613\n",
      "Epoch 2/50\n",
      "5982/5982 [==============================] - 37s 6ms/step - loss: 75667.5938 - val_loss: 7782.8794\n",
      "Epoch 3/50\n",
      "5982/5982 [==============================] - 34s 6ms/step - loss: 75224.5391 - val_loss: 9625.3047\n",
      "Epoch 4/50\n",
      "5982/5982 [==============================] - 35s 6ms/step - loss: 74251.1719 - val_loss: 9064.9932\n",
      "Epoch 5/50\n",
      "5982/5982 [==============================] - 36s 6ms/step - loss: 73470.8594 - val_loss: 8624.3555\n",
      "Epoch 6/50\n",
      "5982/5982 [==============================] - 36s 6ms/step - loss: 71994.2812 - val_loss: 7837.1328\n",
      "Epoch 7/50\n",
      "5982/5982 [==============================] - 35s 6ms/step - loss: 73701.9141 - val_loss: 7858.5166\n",
      "2337/2337 [==============================] - 6s 3ms/step\n"
     ]
    }
   ],
   "source": [
    "# Building the CNN model\n",
    "model_cnn = Sequential()\n",
    "model_cnn.add(Conv1D(filters=64, kernel_size=3, activation='relu', input_shape=(X_train.shape[1], 1)))\n",
    "model_cnn.add(MaxPooling1D(pool_size=2))\n",
    "model_cnn.add(Flatten())\n",
    "model_cnn.add(Dense(50, activation='relu'))\n",
    "model_cnn.add(Dropout(0.5))\n",
    "model_cnn.add(Dense(1))\n",
    "model_cnn.compile(optimizer=Adam(learning_rate=0.001), loss='mse')\n",
    "\n",
    "# Printing the model summary\n",
    "model_cnn.summary()\n",
    "\n",
    "# Early stopping\n",
    "early_stopping = EarlyStopping(monitor='val_loss', patience=5, restore_best_weights=True)\n",
    "\n",
    "# Fit model with early stopping\n",
    "history = model_cnn.fit(X_train, y_train, epochs=50, batch_size=50, validation_data=(X_test, y_test), verbose=1, shuffle=False, callbacks=[early_stopping])\n",
    "\n",
    "# Evaluating the model\n",
    "loss = model_cnn.evaluate(X_test, y_test, verbose=0)\n",
    "\n",
    "# Predictions\n",
    "y_pred = model_cnn.predict(X_test)"
   ]
  },
  {
   "cell_type": "code",
   "execution_count": 125,
   "id": "9ab35ee7",
   "metadata": {},
   "outputs": [
    {
     "name": "stdout",
     "output_type": "stream",
     "text": [
      "9347/9347 [==============================] - 22s 2ms/step\n",
      "Training Values for CNN: \n",
      "Training Mean Squared Error: 8045.51928841366\n",
      "Training Root Mean Squared Error: 89.69681871958258\n",
      "Training Mean Absolute Error: 41.0673358894712\n",
      "Training R-squared: 0.9923142992138279\n",
      "2337/2337 [==============================] - 5s 2ms/step\n",
      "Testing Values for CNN: \n",
      "Test Mean Squared Error: 7782.875646874932\n",
      "Test Root Mean Squared Error: 88.22060783555581\n",
      "Test Mean Absolute Error: 40.73667280995265\n",
      "Test R-squared: 0.9926108413666688\n"
     ]
    }
   ],
   "source": [
    "# predictions on training set for CNN\n",
    "y_train_pred_cnn = model_cnn.predict(X_train)\n",
    "\n",
    "# calculations of evaluation metrics for the training set of CNN\n",
    "mse_train_cnn = mean_squared_error(y_train, y_train_pred_cnn)\n",
    "rmse_train_cnn = np.sqrt(mse_train_cnn)\n",
    "mae_train_cnn = mean_absolute_error(y_train, y_train_pred_cnn)\n",
    "r2_train_cnn = r2_score(y_train, y_train_pred_cnn)\n",
    "\n",
    "# Output the correct metrics for the training set of CNN\n",
    "print('Training Values for CNN: ')\n",
    "print('Training Mean Squared Error:', mse_train_cnn)\n",
    "print('Training Root Mean Squared Error:', rmse_train_cnn)\n",
    "print('Training Mean Absolute Error:', mae_train_cnn)\n",
    "print('Training R-squared:', r2_train_cnn)\n",
    "\n",
    "# Ensure you are using the correct model for test set predictions as well\n",
    "y_pred_cnn = model_cnn.predict(X_test)\n",
    "\n",
    "# Calculate the evaluation metrics for the test set of CNN\n",
    "mse_test_cnn = mean_squared_error(y_test, y_pred_cnn)\n",
    "mae_test_cnn = mean_absolute_error(y_test, y_pred_cnn)\n",
    "rmse_test_cnn = np.sqrt(mse_test_cnn)\n",
    "r2_test_cnn = r2_score(y_test, y_pred_cnn)\n",
    "\n",
    "# Output the metrics for the test set of CNN\n",
    "print('Testing Values for CNN: ')\n",
    "print('Test Mean Squared Error:', mse_test_cnn)\n",
    "print('Test Root Mean Squared Error:', rmse_test_cnn)\n",
    "print('Test Mean Absolute Error:', mae_test_cnn)\n",
    "print('Test R-squared:', r2_test_cnn)\n"
   ]
  },
  {
   "cell_type": "code",
   "execution_count": 126,
   "id": "a238ebb2",
   "metadata": {},
   "outputs": [
    {
     "data": {
      "image/png": "[encoded data removed]",
      "text/plain": [
       "<Figure size 640x480 with 1 Axes>"
      ]
     },
     "metadata": {},
     "output_type": "display_data"
    }
   ],
   "source": [
    "# Plot training & validation loss values\n",
    "plt.plot(history.history['loss'])\n",
    "plt.plot(history.history['val_loss'])\n",
    "plt.title('Model loss')\n",
    "plt.ylabel('Loss')\n",
    "plt.xlabel('Epoch')\n",
    "plt.legend(['Train', 'Test'], loc='upper left')\n",
    "plt.show()"
   ]
  }
 ],
 "metadata": {
  "kernelspec": {
   "display_name": "Python 3 (ipykernel)",
   "language": "python",
   "name": "python3"
  },
  "language_info": {
   "codemirror_mode": {
    "name": "ipython",
    "version": 3
   },
   "file_extension": ".py",
   "mimetype": "text/x-python",
   "name": "python",
   "nbconvert_exporter": "python",
   "pygments_lexer": "ipython3",
   "version": "3.9.13"
  }
 },
 "nbformat": 4,
 "nbformat_minor": 5
}
